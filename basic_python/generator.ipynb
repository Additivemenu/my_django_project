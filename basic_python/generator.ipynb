{
 "cells": [
  {
   "cell_type": "markdown",
   "metadata": {},
   "source": [
    "# Python Generators and Yield Tutorial\n",
    "\n",
    "This notebook demonstrates the usage of generators and yield in Python. Run each cell to see the results."
   ]
  },
  {
   "cell_type": "markdown",
   "metadata": {},
   "source": [
    "## 1. Basic Generator Example"
   ]
  },
  {
   "cell_type": "code",
   "execution_count": 3,
   "metadata": {},
   "outputs": [
    {
     "name": "stdout",
     "output_type": "stream",
     "text": [
      "Using next():\n",
      "Starting\n",
      "First value: 1\n",
      "After first yield\n",
      "Second value: 2\n",
      "After second yield\n",
      "Third value: 3\n",
      "\n",
      "Using for loop:\n",
      "Starting\n",
      "Value: 1\n",
      "After first yield\n",
      "Value: 2\n",
      "After second yield\n",
      "Value: 3\n",
      "After third yield\n"
     ]
    }
   ],
   "source": [
    "def number_generator():\n",
    "    print(\"Starting\")\n",
    "    yield 1\n",
    "    print(\"After first yield\")\n",
    "    yield 2\n",
    "    print(\"After second yield\")\n",
    "    yield 3\n",
    "    print(\"After third yield\")\n",
    "\n",
    "# Using next()\n",
    "print(\"Using next():\")\n",
    "gen = number_generator()\n",
    "print(\"First value:\", next(gen))\n",
    "print(\"Second value:\", next(gen))\n",
    "print(\"Third value:\", next(gen))\n",
    "\n",
    "print(\"\\nUsing for loop:\")\n",
    "for num in number_generator():\n",
    "    print(\"Value:\", num)"
   ]
  },
  {
   "cell_type": "markdown",
   "metadata": {},
   "source": [
    "## 2. Memory Comparison: Generator vs List"
   ]
  },
  {
   "cell_type": "code",
   "execution_count": null,
   "metadata": {},
   "outputs": [],
   "source": [
    "import sys\n",
    "\n",
    "# Regular function returning a list\n",
    "def get_numbers_list(n):\n",
    "    return [x for x in range(n)]\n",
    "\n",
    "# Generator function\n",
    "def get_numbers_generator(n):\n",
    "    for x in range(n):\n",
    "        yield x\n",
    "\n",
    "# Compare memory usage\n",
    "n = 1000000\n",
    "numbers_list = get_numbers_list(n)\n",
    "numbers_gen = get_numbers_generator(n)\n",
    "\n",
    "print(f\"List size: {sys.getsizeof(numbers_list):,} bytes\")\n",
    "print(f\"Generator size: {sys.getsizeof(numbers_gen):,} bytes\")\n",
    "\n",
    "# Demonstrate that generator still works\n",
    "print(\"\\nFirst 5 numbers from generator:\")\n",
    "gen = get_numbers_generator(n)\n",
    "for _ in range(5):\n",
    "    print(next(gen))"
   ]
  },
  {
   "cell_type": "markdown",
   "metadata": {},
   "source": [
    "## 3. Infinite Generator"
   ]
  },
  {
   "cell_type": "code",
   "execution_count": null,
   "metadata": {},
   "outputs": [],
   "source": [
    "def infinite_counter():\n",
    "    num = 0\n",
    "    while True:\n",
    "        yield num\n",
    "        num += 1\n",
    "\n",
    "# Get first 5 numbers\n",
    "print(\"First 5 numbers:\")\n",
    "counter = infinite_counter()\n",
    "for _ in range(5):\n",
    "    print(next(counter))\n",
    "\n",
    "# Using with a break condition\n",
    "print(\"\\nUsing break condition:\")\n",
    "for num in infinite_counter():\n",
    "    if num > 5:\n",
    "        break\n",
    "    print(num)"
   ]
  },
  {
   "cell_type": "markdown",
   "metadata": {},
   "source": [
    "## 4. Generator with State (using send)"
   ]
  },
  {
   "cell_type": "code",
   "execution_count": null,
   "metadata": {},
   "outputs": [],
   "source": [
    "def stateful_generator():\n",
    "    count = 0\n",
    "    while True:\n",
    "        count += 1\n",
    "        received = yield count\n",
    "        if received:\n",
    "            count = received\n",
    "\n",
    "gen = stateful_generator()\n",
    "print(\"First value:\", next(gen))      # Start generator\n",
    "print(\"Second value:\", next(gen))     # Normal next\n",
    "print(\"After sending 10:\", gen.send(10))  # Send value\n",
    "print(\"Next value:\", next(gen))       # Normal next"
   ]
  },
  {
   "cell_type": "markdown",
   "metadata": {},
   "source": [
    "## 5. File Generator Example"
   ]
  },
  {
   "cell_type": "code",
   "execution_count": null,
   "metadata": {},
   "outputs": [],
   "source": [
    "# Create a sample file\n",
    "with open('sample.txt', 'w') as f:\n",
    "    for i in range(100):\n",
    "        f.write(f\"Line {i}\\n\")\n",
    "\n",
    "def read_file_generator(filename):\n",
    "    with open(filename) as f:\n",
    "        for line in f:\n",
    "            yield line.strip()\n",
    "\n",
    "# Read first 5 lines\n",
    "print(\"First 5 lines:\")\n",
    "for i, line in enumerate(read_file_generator('sample.txt')):\n",
    "    if i >= 5:\n",
    "        break\n",
    "    print(line)"
   ]
  },
  {
   "cell_type": "markdown",
   "metadata": {},
   "source": [
    "## 6. Data Processing Pipeline"
   ]
  },
  {
   "cell_type": "code",
   "execution_count": null,
   "metadata": {},
   "outputs": [],
   "source": [
    "def generate_numbers():\n",
    "    for i in range(10):\n",
    "        yield i\n",
    "\n",
    "def filter_even(numbers):\n",
    "    for num in numbers:\n",
    "        if num % 2 == 0:\n",
    "            yield num\n",
    "\n",
    "def multiply_by_two(numbers):\n",
    "    for num in numbers:\n",
    "        yield num * 2\n",
    "\n",
    "# Create pipeline\n",
    "pipeline = multiply_by_two(filter_even(generate_numbers()))\n",
    "\n",
    "print(\"Results of pipeline (even numbers multiplied by 2):\")\n",
    "for result in pipeline:\n",
    "    print(result)"
   ]
  },
  {
   "cell_type": "markdown",
   "metadata": {},
   "source": [
    "## 7. Generator Expression vs List Comprehension"
   ]
  },
  {
   "cell_type": "code",
   "execution_count": null,
   "metadata": {},
   "outputs": [],
   "source": [
    "# List comprehension\n",
    "squares_list = [x*x for x in range(1000)]\n",
    "\n",
    "# Generator expression\n",
    "squares_gen = (x*x for x in range(1000))\n",
    "\n",
    "print(f\"List comprehension size: {sys.getsizeof(squares_list):,} bytes\")\n",
    "print(f\"Generator expression size: {sys.getsizeof(squares_gen):,} bytes\")\n",
    "\n",
    "print(\"\\nFirst 5 squares from generator:\")\n",
    "gen = (x*x for x in range(1000))\n",
    "for _ in range(5):\n",
    "    print(next(gen))"
   ]
  },
  {
   "cell_type": "markdown",
   "metadata": {},
   "source": [
    "## 8. Practical Example: Fibonacci Generator"
   ]
  },
  {
   "cell_type": "code",
   "execution_count": null,
   "metadata": {},
   "outputs": [],
   "source": [
    "def fibonacci_generator():\n",
    "    a, b = 0, 1\n",
    "    while True:\n",
    "        yield a\n",
    "        a, b = b, a + b\n",
    "\n",
    "print(\"First 10 Fibonacci numbers:\")\n",
    "fib = fibonacci_generator()\n",
    "for _ in range(10):\n",
    "    print(next(fib))"
   ]
  },
  {
   "cell_type": "markdown",
   "metadata": {},
   "source": [
    "## Cleanup"
   ]
  },
  {
   "cell_type": "code",
   "execution_count": null,
   "metadata": {},
   "outputs": [],
   "source": [
    "import os\n",
    "# Clean up the sample file\n",
    "if os.path.exists('sample.txt'):\n",
    "    os.remove('sample.txt')"
   ]
  }
 ],
 "metadata": {
  "kernelspec": {
   "display_name": "Python 3",
   "language": "python",
   "name": "python3"
  },
  "language_info": {
   "codemirror_mode": {
    "name": "ipython",
    "version": 3
   },
   "file_extension": ".py",
   "mimetype": "text/x-python",
   "name": "python",
   "nbconvert_exporter": "python",
   "pygments_lexer": "ipython3",
   "version": "3.10.14"
  }
 },
 "nbformat": 4,
 "nbformat_minor": 4
}
