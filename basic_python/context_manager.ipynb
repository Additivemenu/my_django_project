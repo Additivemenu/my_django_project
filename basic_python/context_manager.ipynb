{
 "cells": [
  {
   "cell_type": "markdown",
   "metadata": {},
   "source": [
    "# Python `with` Statement Tutorial\n",
    "\n",
    "This notebook explains the `with` statement in Python, context managers, and their practical applications.\n",
    "\n",
    "When to Use Context Managers for I/O:\n",
    "+ File operations\n",
    "+ Database connections\n",
    "+ Network sockets\n",
    "+ Lock acquisition\n",
    "+ Temporary resource management\n",
    "+ Graphics contexts\n",
    "+ Stream handling\n",
    "+ HTTP connections\n"
   ]
  },
  {
   "cell_type": "markdown",
   "metadata": {},
   "source": [
    "## 1. Basic File Handling Example"
   ]
  },
  {
   "cell_type": "code",
   "execution_count": 1,
   "metadata": {},
   "outputs": [
    {
     "name": "stdout",
     "output_type": "stream",
     "text": [
      "Traditional way:\n",
      "\n",
      "Using with statement:\n",
      "Content: Hello, World!\n",
      "Is file closed? True\n"
     ]
    }
   ],
   "source": [
    "# Traditional way (without with)\n",
    "print(\"Traditional way:\")\n",
    "try:\n",
    "    f = open('example.txt', 'w')\n",
    "    f.write('Hello, World!')\n",
    "finally:\n",
    "    f.close()\n",
    "\n",
    "# Using with statement\n",
    "print(\"\\nUsing with statement:\")\n",
    "with open('example.txt', 'r') as f:\n",
    "    content = f.read()\n",
    "    print(f\"Content: {content}\")\n",
    "\n",
    "# ! File is automatically closed after with block\n",
    "print(f\"Is file closed? {f.closed}\")"
   ]
  },
  {
   "cell_type": "markdown",
   "metadata": {},
   "source": [
    "## 2. Multiple Context Managers"
   ]
  },
  {
   "cell_type": "code",
   "execution_count": 2,
   "metadata": {},
   "outputs": [
    {
     "name": "stdout",
     "output_type": "stream",
     "text": [
      "Destination content: Some text to copy\n"
     ]
    }
   ],
   "source": [
    "# Using multiple files with with statement\n",
    "with open('source.txt', 'w') as source:\n",
    "    source.write('Some text to copy')\n",
    "\n",
    "with open('source.txt', 'r') as source, open('destination.txt', 'w') as destination:\n",
    "    content = source.read()\n",
    "    destination.write(content)\n",
    "\n",
    "# Read the destination file to verify\n",
    "with open('destination.txt', 'r') as f:\n",
    "    print(f\"Destination content: {f.read()}\")"
   ]
  },
  {
   "cell_type": "markdown",
   "metadata": {},
   "source": [
    "## 3. Custom Context Manager using Class"
   ]
  },
  {
   "cell_type": "code",
   "execution_count": null,
   "metadata": {},
   "outputs": [],
   "source": [
    "class Timer:\n",
    "    def __init__(self, name):\n",
    "        self.name = name\n",
    "        \n",
    "    def __enter__(self):\n",
    "        import time\n",
    "        print(f\"Starting {self.name}...\")\n",
    "        self.start_time = time.time()\n",
    "        return self\n",
    "    \n",
    "    def __exit__(self, exc_type, exc_val, exc_tb):\n",
    "        import time\n",
    "        end_time = time.time()\n",
    "        print(f\"{self.name} took {end_time - self.start_time:.2f} seconds\")\n",
    "\n",
    "# Using our custom context manager\n",
    "with Timer(\"Operation\"):\n",
    "    # Simulate some work\n",
    "    import time\n",
    "    time.sleep(1)"
   ]
  },
  {
   "cell_type": "markdown",
   "metadata": {},
   "source": [
    "## 4. Custom Context Manager using contextlib"
   ]
  },
  {
   "cell_type": "code",
   "execution_count": null,
   "metadata": {},
   "outputs": [],
   "source": [
    "from contextlib import contextmanager\n",
    "\n",
    "@contextmanager\n",
    "def indentation(spaces):\n",
    "    try:\n",
    "        # Setup\n",
    "        original_print = print\n",
    "        def indented_print(*args, **kwargs):\n",
    "            original_print(' ' * spaces, *args, **kwargs)\n",
    "        builtins = __import__('builtins')\n",
    "        builtins.print = indented_print\n",
    "        \n",
    "        yield  # This is where the with block's code runs\n",
    "        \n",
    "    finally:\n",
    "        # Cleanup\n",
    "        builtins.print = original_print\n",
    "\n",
    "# Using our indentation context manager\n",
    "print(\"Normal print\")\n",
    "with indentation(4):\n",
    "    print(\"Indented print\")\n",
    "print(\"Back to normal\")"
   ]
  },
  {
   "cell_type": "markdown",
   "metadata": {},
   "source": [
    "## 5. Error Handling in Context Managers"
   ]
  },
  {
   "cell_type": "code",
   "execution_count": null,
   "metadata": {},
   "outputs": [],
   "source": [
    "class ErrorHandler:\n",
    "    def __enter__(self):\n",
    "        print(\"Entering the context\")\n",
    "        return self\n",
    "    \n",
    "    def __exit__(self, exc_type, exc_value, traceback):\n",
    "        if exc_type is not None:\n",
    "            print(f\"An error occurred: {exc_type.__name__}: {exc_value}\")\n",
    "            return True  # Suppress the error\n",
    "        print(\"Exiting the context normally\")\n",
    "\n",
    "# Test with no error\n",
    "print(\"Test 1: No error\")\n",
    "with ErrorHandler():\n",
    "    print(\"Doing something normal\")\n",
    "\n",
    "# Test with error\n",
    "print(\"\\nTest 2: With error\")\n",
    "with ErrorHandler():\n",
    "    raise ValueError(\"Something went wrong!\")\n",
    "\n",
    "print(\"\\nCode continues to run\")"
   ]
  },
  {
   "cell_type": "markdown",
   "metadata": {},
   "source": [
    "## 6. Practical Example: Database Connection"
   ]
  },
  {
   "cell_type": "code",
   "execution_count": null,
   "metadata": {},
   "outputs": [],
   "source": [
    "class DatabaseConnection:\n",
    "    def __init__(self, db_name):\n",
    "        self.db_name = db_name\n",
    "        \n",
    "    def __enter__(self):\n",
    "        print(f\"Connecting to database {self.db_name}...\")\n",
    "        # Simulate connection setup\n",
    "        self.data = {}\n",
    "        return self\n",
    "    \n",
    "    def __exit__(self, exc_type, exc_val, exc_tb):\n",
    "        print(f\"Closing connection to {self.db_name}\")\n",
    "        # Cleanup would happen here\n",
    "        self.data = None\n",
    "    \n",
    "    def query(self, sql):\n",
    "        print(f\"Executing: {sql}\")\n",
    "        return [\"result1\", \"result2\"]\n",
    "\n",
    "# Using the database connection\n",
    "with DatabaseConnection(\"example_db\") as db:\n",
    "    results = db.query(\"SELECT * FROM table\")\n",
    "    print(f\"Results: {results}\")\n",
    "\n",
    "# ! Connection is automatically closed here"
   ]
  },
  {
   "cell_type": "markdown",
   "metadata": {},
   "source": [
    "## 7. Nested Context Managers"
   ]
  },
  {
   "cell_type": "code",
   "execution_count": null,
   "metadata": {},
   "outputs": [],
   "source": [
    "class Level:\n",
    "    def __init__(self, level):\n",
    "        self.level = level\n",
    "    \n",
    "    def __enter__(self):\n",
    "        print(f\"Entering level {self.level}\")\n",
    "        return self\n",
    "    \n",
    "    def __exit__(self, exc_type, exc_val, exc_tb):\n",
    "        print(f\"Exiting level {self.level}\")\n",
    "\n",
    "# Using nested context managers\n",
    "with Level(1):\n",
    "    print(\"In level 1\")\n",
    "    with Level(2):\n",
    "        print(\"In level 2\")\n",
    "        with Level(3):\n",
    "            print(\"In level 3\")"
   ]
  },
  {
   "cell_type": "markdown",
   "metadata": {},
   "source": [
    "## 8. Context Manager for Temporary File"
   ]
  },
  {
   "cell_type": "code",
   "execution_count": null,
   "metadata": {},
   "outputs": [],
   "source": [
    "import os\n",
    "from contextlib import contextmanager\n",
    "\n",
    "@contextmanager\n",
    "def temporary_file(content):\n",
    "    # Setup\n",
    "    filename = 'temp.txt'\n",
    "    with open(filename, 'w') as f:\n",
    "        f.write(content)\n",
    "    try:\n",
    "        yield filename\n",
    "    finally:\n",
    "        # Cleanup\n",
    "        if os.path.exists(filename):\n",
    "            os.remove(filename)\n",
    "\n",
    "# Using the temporary file\n",
    "with temporary_file(\"Hello, World!\") as filename:\n",
    "    print(f\"File exists during with block: {os.path.exists(filename)}\")\n",
    "    with open(filename, 'r') as f:\n",
    "        print(f\"Content: {f.read()}\")\n",
    "\n",
    "print(f\"File exists after with block: {os.path.exists(filename)}\")"
   ]
  },
  {
   "cell_type": "markdown",
   "metadata": {},
   "source": [
    "## Cleanup"
   ]
  },
  {
   "cell_type": "code",
   "execution_count": 3,
   "metadata": {},
   "outputs": [
    {
     "name": "stdout",
     "output_type": "stream",
     "text": [
      "Removed example.txt\n",
      "Removed source.txt\n",
      "Removed destination.txt\n"
     ]
    }
   ],
   "source": [
    "import os\n",
    "\n",
    "# Clean up files created during the tutorial\n",
    "files_to_remove = ['example.txt', 'source.txt', 'destination.txt']\n",
    "\n",
    "for file in files_to_remove:\n",
    "    if os.path.exists(file):\n",
    "        os.remove(file)\n",
    "        print(f\"Removed {file}\")"
   ]
  }
 ],
 "metadata": {
  "kernelspec": {
   "display_name": "Python 3",
   "language": "python",
   "name": "python3"
  },
  "language_info": {
   "codemirror_mode": {
    "name": "ipython",
    "version": 3
   },
   "file_extension": ".py",
   "mimetype": "text/x-python",
   "name": "python",
   "nbconvert_exporter": "python",
   "pygments_lexer": "ipython3",
   "version": "3.10.14"
  }
 },
 "nbformat": 4,
 "nbformat_minor": 4
}
